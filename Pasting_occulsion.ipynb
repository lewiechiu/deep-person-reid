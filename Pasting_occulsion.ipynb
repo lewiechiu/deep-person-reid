{
 "cells": [
  {
   "cell_type": "code",
   "execution_count": 7,
   "metadata": {},
   "outputs": [],
   "source": [
    "import cv2\n",
    "import numpy as np\n",
    "from PIL import Image\n",
    "import os\n",
    "from IPython.display import display"
   ]
  },
  {
   "cell_type": "code",
   "execution_count": 62,
   "metadata": {},
   "outputs": [],
   "source": [
    "cnt = 0\n",
    "for root, d, files in os.walk(\"../Market-1501-v15.09.15/market1501/Market-1501-v15.09.15/query/\"):\n",
    "    for file in files:\n",
    "        if \".jpg\" not in file:\n",
    "            continue\n",
    "        location = os.path.join(root, file)\n",
    "        save_loc = os.path.join(\"/\".join([*root.split(\"/\")[:-2], \"query_occlusion\"]) , file)\n",
    "#         print(save_loc)\n",
    "#         print(location)\n",
    "        im = Image.open(location)\n",
    "        a= np.random.randint(0, 128)\n",
    "        tl = np.random.randint(0,1 )\n",
    "        occlusion = Image.new('RGB', (64, 32))\n",
    "        im.paste(occlusion, (tl, a))\n",
    "        im.save(save_loc)\n",
    "#         display(im)\n",
    "        cnt += 1\n",
    "#         if cnt == 10:\n",
    "#             break"
   ]
  },
  {
   "cell_type": "code",
   "execution_count": 66,
   "metadata": {},
   "outputs": [
    {
     "data": {
      "image/png": "[encoded data removed]",
      "text/plain": [
       "<PIL.JpegImagePlugin.JpegImageFile image mode=RGB size=64x128 at 0x7F5B65F358E0>"
      ]
     },
     "execution_count": 66,
     "metadata": {},
     "output_type": "execute_result"
    }
   ],
   "source": [
    "im = Image.open(\"../Market-1501-v15.09.15/market1501/Market-1501-v15.09.15/bounding_box_test/1005_c1s4_069536_03.jpg\")\n",
    "im"
   ]
  },
  {
   "cell_type": "code",
   "execution_count": 20,
   "metadata": {},
   "outputs": [
    {
     "data": {
      "text/plain": [
       "(64, 128)"
      ]
     },
     "execution_count": 20,
     "metadata": {},
     "output_type": "execute_result"
    }
   ],
   "source": [
    "im.size"
   ]
  },
  {
   "cell_type": "code",
   "execution_count": 21,
   "metadata": {},
   "outputs": [],
   "source": [
    "a= np.random.randint(0, 128)\n",
    "occlusion = Image.new('RGB', (48, 32))\n",
    "im.paste(occlusion, (0, a))"
   ]
  },
  {
   "cell_type": "code",
   "execution_count": 60,
   "metadata": {},
   "outputs": [
    {
     "data": {
      "text/plain": [
       "3368"
      ]
     },
     "execution_count": 60,
     "metadata": {},
     "output_type": "execute_result"
    }
   ],
   "source": [
    "cnt"
   ]
  },
  {
   "cell_type": "code",
   "execution_count": null,
   "metadata": {},
   "outputs": [],
   "source": []
  }
 ],
 "metadata": {
  "kernelspec": {
   "display_name": "Python 3.8.2 64-bit ('ml_torch': conda)",
   "language": "python",
   "name": "python38264bitmltorchconda00017c2c38fa48acbf54500a2f274542"
  },
  "language_info": {
   "codemirror_mode": {
    "name": "ipython",
    "version": 3
   },
   "file_extension": ".py",
   "mimetype": "text/x-python",
   "name": "python",
   "nbconvert_exporter": "python",
   "pygments_lexer": "ipython3",
   "version": "3.8.2"
  }
 },
 "nbformat": 4,
 "nbformat_minor": 4
}
